{
  "nbformat": 4,
  "nbformat_minor": 0,
  "metadata": {
    "colab": {
      "name": "Lecture.ipynb",
      "provenance": [],
      "collapsed_sections": [],
      "authorship_tag": "ABX9TyNik/uRW8FYMwzY8i3noGXq",
      "include_colab_link": true
    },
    "kernelspec": {
      "name": "python3",
      "display_name": "Python 3"
    }
  },
  "cells": [
    {
      "cell_type": "markdown",
      "metadata": {
        "id": "view-in-github",
        "colab_type": "text"
      },
      "source": [
        "<a href=\"https://colab.research.google.com/github/scruble1k/study/blob/master/Lecture.ipynb\" target=\"_parent\"><img src=\"https://colab.research.google.com/assets/colab-badge.svg\" alt=\"Open In Colab\"/></a>"
      ]
    },
    {
      "cell_type": "markdown",
      "metadata": {
        "id": "7Gldnyz1G9s6",
        "colab_type": "text"
      },
      "source": [
        "# Colab work"
      ]
    },
    {
      "cell_type": "code",
      "metadata": {
        "id": "gjFSgaFAG_UG",
        "colab_type": "code",
        "colab": {
          "base_uri": "https://localhost:8080/",
          "height": 35
        },
        "outputId": "644d8fc5-0dd1-4e11-b1f4-f87eb547ab7a"
      },
      "source": [
        "print(\"Hello world\")"
      ],
      "execution_count": null,
      "outputs": [
        {
          "output_type": "stream",
          "text": [
            "Hello world\n"
          ],
          "name": "stdout"
        }
      ]
    },
    {
      "cell_type": "code",
      "metadata": {
        "id": "ZEMRehXAeku4",
        "colab_type": "code",
        "colab": {
          "base_uri": "https://localhost:8080/",
          "height": 267
        },
        "outputId": "f7a245f8-ac70-45c7-ccf1-b3d04e37aa57"
      },
      "source": [
        "# check enivornment\n",
        "! cat /etc/issue.net\n",
        "!df -h   # check disk volume\n",
        "import sys    # check version of python\n",
        "sys.version_info\n",
        "! python --version\n"
      ],
      "execution_count": 14,
      "outputs": [
        {
          "output_type": "stream",
          "text": [
            "Ubuntu 18.04.3 LTS\n",
            "Filesystem      Size  Used Avail Use% Mounted on\n",
            "overlay         108G   31G   72G  31% /\n",
            "tmpfs            64M     0   64M   0% /dev\n",
            "tmpfs           6.4G     0  6.4G   0% /sys/fs/cgroup\n",
            "shm             5.9G     0  5.9G   0% /dev/shm\n",
            "tmpfs           6.4G   12K  6.4G   1% /var/colab\n",
            "/dev/sda1       114G   33G   82G  29% /etc/hosts\n",
            "tmpfs           6.4G     0  6.4G   0% /proc/acpi\n",
            "tmpfs           6.4G     0  6.4G   0% /proc/scsi\n",
            "tmpfs           6.4G     0  6.4G   0% /sys/firmware\n",
            "2.2.0\n",
            "Python 3.6.9\n"
          ],
          "name": "stdout"
        }
      ]
    },
    {
      "cell_type": "markdown",
      "metadata": {
        "id": "w1dW7O09l4T0",
        "colab_type": "text"
      },
      "source": [
        "# Python Basic"
      ]
    },
    {
      "cell_type": "code",
      "metadata": {
        "id": "uzKNVPwDl_2n",
        "colab_type": "code",
        "colab": {
          "base_uri": "https://localhost:8080/",
          "height": 85
        },
        "outputId": "b744a98e-5859-4986-df3d-54ebcc3b6e35"
      },
      "source": [
        "a = 725\n",
        "b = 5123\n",
        "print(a * b)\n",
        "\n",
        "x = 13\n",
        "print(type(x))  #prints <'class int'>\n",
        "\n",
        "c = 'pig'\n",
        "d = 'dad'\n",
        "print(c + d)\n",
        "\n",
        "family = ['mom', 'dad', 'me', 'bros', 'sis']\n",
        "len(family)  # len(x): return number of x\n",
        "family.remove('me')\n",
        "family"
      ],
      "execution_count": 25,
      "outputs": [
        {
          "output_type": "stream",
          "text": [
            "3714175\n",
            "<class 'int'>\n",
            "pigdad\n"
          ],
          "name": "stdout"
        },
        {
          "output_type": "execute_result",
          "data": {
            "text/plain": [
              "['mom', 'dad', 'bros', 'sis']"
            ]
          },
          "metadata": {
            "tags": []
          },
          "execution_count": 25
        }
      ]
    },
    {
      "cell_type": "code",
      "metadata": {
        "id": "kgaUqKaMuYTC",
        "colab_type": "code",
        "colab": {}
      },
      "source": [
        "from google.colab import files  #import files from local drive\n",
        "uploaded = files.upload()"
      ],
      "execution_count": null,
      "outputs": []
    }
  ]
}